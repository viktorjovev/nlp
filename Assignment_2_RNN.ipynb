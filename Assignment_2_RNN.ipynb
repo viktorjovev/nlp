{
  "nbformat": 4,
  "nbformat_minor": 0,
  "metadata": {
    "colab": {
      "name": "Assignment#2_RNN.ipynb",
      "provenance": [],
      "collapsed_sections": [],
      "authorship_tag": "ABX9TyOclUpEIx95yKH/SVwSd6my"
    },
    "kernelspec": {
      "name": "python3",
      "display_name": "Python 3"
    },
    "language_info": {
      "name": "python"
    }
  },
  "cells": [
    {
      "cell_type": "code",
      "metadata": {
        "colab": {
          "base_uri": "https://localhost:8080/"
        },
        "id": "2B-ejlW7kYdv",
        "outputId": "e0ef77c4-1c85-486f-9414-6ed6b41b3b92"
      },
      "source": [
        "import nltk\n",
        "nltk.download('punkt')"
      ],
      "execution_count": null,
      "outputs": [
        {
          "output_type": "stream",
          "name": "stdout",
          "text": [
            "[nltk_data] Downloading package punkt to /root/nltk_data...\n",
            "[nltk_data]   Unzipping tokenizers/punkt.zip.\n"
          ]
        },
        {
          "output_type": "execute_result",
          "data": {
            "text/plain": [
              "True"
            ]
          },
          "metadata": {},
          "execution_count": 1
        }
      ]
    },
    {
      "cell_type": "code",
      "metadata": {
        "id": "fXBXSSBcO9Fn"
      },
      "source": [
        "import pandas as pd\n",
        "import numpy as np\n",
        "from nltk import word_tokenize\n",
        "from sklearn.model_selection import train_test_split\n",
        "from tensorflow.keras.preprocessing.sequence import pad_sequences\n",
        "from tensorflow.keras.models import Sequential\n",
        "from tensorflow.keras.layers import Embedding, LSTM, Dense, Bidirectional, GRU\n",
        "from tensorflow.keras.optimizers import Adam\n",
        "from tensorflow.keras.losses import binary_crossentropy"
      ],
      "execution_count": null,
      "outputs": []
    },
    {
      "cell_type": "code",
      "metadata": {
        "id": "te9c5RUbW94g"
      },
      "source": [
        "train_set = pd.read_csv(\"/content/training.csv\",sep=\"\\t\")\n",
        "trial_set = pd.read_csv(\"/content/trial.csv\",sep=\"\\t\")"
      ],
      "execution_count": null,
      "outputs": []
    },
    {
      "cell_type": "code",
      "metadata": {
        "id": "abEWrLk9dEV1"
      },
      "source": [
        "def tokenize(data):\n",
        "\ttrain_set['Text Transcription'] = train_set['Text Transcription'].apply(lambda x: word_tokenize(x.lower()))"
      ],
      "execution_count": null,
      "outputs": []
    },
    {
      "cell_type": "code",
      "metadata": {
        "id": "kamyY4X4h8-E"
      },
      "source": [
        "def create_vocabulary(sentence_tokens):\n",
        "\tvocabulary = set()\n",
        "\tfor tokens in sentence_tokens:\n",
        "\t\tvocabulary.update(tokens)\n",
        "\n",
        "\tvocabulary = list(vocabulary)\n",
        "\tword_to_id = {word: index for word, index in zip(vocabulary, range(len(vocabulary)))}\n",
        "\treturn vocabulary, word_to_id"
      ],
      "execution_count": null,
      "outputs": []
    },
    {
      "cell_type": "code",
      "metadata": {
        "id": "YAAPWI8miuZ0"
      },
      "source": [
        "tokenize(train_set)"
      ],
      "execution_count": null,
      "outputs": []
    },
    {
      "cell_type": "code",
      "metadata": {
        "colab": {
          "base_uri": "https://localhost:8080/",
          "height": 204
        },
        "id": "UKOjVNkAkVvQ",
        "outputId": "2ff16f6e-8974-440e-fcb0-d315fe4df345"
      },
      "source": [
        "train_set.head()"
      ],
      "execution_count": null,
      "outputs": [
        {
          "output_type": "execute_result",
          "data": {
            "text/html": [
              "<div>\n",
              "<style scoped>\n",
              "    .dataframe tbody tr th:only-of-type {\n",
              "        vertical-align: middle;\n",
              "    }\n",
              "\n",
              "    .dataframe tbody tr th {\n",
              "        vertical-align: top;\n",
              "    }\n",
              "\n",
              "    .dataframe thead th {\n",
              "        text-align: right;\n",
              "    }\n",
              "</style>\n",
              "<table border=\"1\" class=\"dataframe\">\n",
              "  <thead>\n",
              "    <tr style=\"text-align: right;\">\n",
              "      <th></th>\n",
              "      <th>file_name</th>\n",
              "      <th>misogynous</th>\n",
              "      <th>shaming</th>\n",
              "      <th>stereotype</th>\n",
              "      <th>objectification</th>\n",
              "      <th>violence</th>\n",
              "      <th>Text Transcription</th>\n",
              "    </tr>\n",
              "  </thead>\n",
              "  <tbody>\n",
              "    <tr>\n",
              "      <th>0</th>\n",
              "      <td>1.jpg</td>\n",
              "      <td>0</td>\n",
              "      <td>0</td>\n",
              "      <td>0</td>\n",
              "      <td>0</td>\n",
              "      <td>0</td>\n",
              "      <td>[milk, milk.zip]</td>\n",
              "    </tr>\n",
              "    <tr>\n",
              "      <th>1</th>\n",
              "      <td>10.jpg</td>\n",
              "      <td>1</td>\n",
              "      <td>0</td>\n",
              "      <td>0</td>\n",
              "      <td>0</td>\n",
              "      <td>1</td>\n",
              "      <td>[roses, are, red, ,, violets, are, blue, if, y...</td>\n",
              "    </tr>\n",
              "    <tr>\n",
              "      <th>2</th>\n",
              "      <td>1000.jpg</td>\n",
              "      <td>0</td>\n",
              "      <td>0</td>\n",
              "      <td>0</td>\n",
              "      <td>0</td>\n",
              "      <td>0</td>\n",
              "      <td>[breaking, news, :, russia, releases, photo, o...</td>\n",
              "    </tr>\n",
              "    <tr>\n",
              "      <th>3</th>\n",
              "      <td>10000.jpg</td>\n",
              "      <td>0</td>\n",
              "      <td>0</td>\n",
              "      <td>0</td>\n",
              "      <td>0</td>\n",
              "      <td>0</td>\n",
              "      <td>[man, seeking, woman, ignad, 18, o]</td>\n",
              "    </tr>\n",
              "    <tr>\n",
              "      <th>4</th>\n",
              "      <td>10006.jpg</td>\n",
              "      <td>0</td>\n",
              "      <td>0</td>\n",
              "      <td>0</td>\n",
              "      <td>0</td>\n",
              "      <td>0</td>\n",
              "      <td>[me, explaining, the, deep, lore, of, ., j.r.r...</td>\n",
              "    </tr>\n",
              "  </tbody>\n",
              "</table>\n",
              "</div>"
            ],
            "text/plain": [
              "   file_name  ...                                 Text Transcription\n",
              "0      1.jpg  ...                                   [milk, milk.zip]\n",
              "1     10.jpg  ...  [roses, are, red, ,, violets, are, blue, if, y...\n",
              "2   1000.jpg  ...  [breaking, news, :, russia, releases, photo, o...\n",
              "3  10000.jpg  ...                [man, seeking, woman, ignad, 18, o]\n",
              "4  10006.jpg  ...  [me, explaining, the, deep, lore, of, ., j.r.r...\n",
              "\n",
              "[5 rows x 7 columns]"
            ]
          },
          "metadata": {},
          "execution_count": 7
        }
      ]
    },
    {
      "cell_type": "code",
      "metadata": {
        "id": "MSRvXCE1nkHb"
      },
      "source": [
        "sentences = train_set['Text Transcription'].values\n",
        "labels = train_set.misogynous.values\n",
        "vocabulary, word_to_id = create_vocabulary(sentences)\n",
        "\n",
        "train_set['indices'] = train_set['Text Transcription'].apply(lambda x: np.array([word_to_id[i] for i in x]))\n",
        "sentence_indices = train_set['indices'].values\n",
        "len_sentences = train_set['Text Transcription'].apply(lambda x: len(x))\n",
        "padded_sentences = pad_sequences(sentence_indices, int(sum(len_sentences)/len(len_sentences)))"
      ],
      "execution_count": null,
      "outputs": []
    },
    {
      "cell_type": "markdown",
      "metadata": {
        "id": "O5gbEi3eTwUO"
      },
      "source": [
        "#Vanila"
      ]
    },
    {
      "cell_type": "code",
      "metadata": {
        "id": "olbctL6-rOTx"
      },
      "source": [
        "x_train, x_test, y_train, y_test = train_test_split(padded_sentences, labels, test_size=0.2, random_state=42, stratify=labels)\n",
        "\n",
        "model = Sequential()\n",
        "model.add(Embedding(input_dim=len(vocabulary), output_dim=50, trainable=False))"
      ],
      "execution_count": null,
      "outputs": []
    },
    {
      "cell_type": "code",
      "metadata": {
        "colab": {
          "base_uri": "https://localhost:8080/"
        },
        "id": "hnQ1478msUjN",
        "outputId": "7e18c678-ad5f-47bc-84dd-312fa997366f"
      },
      "source": [
        "model.add(LSTM(256))\n",
        "model.add(Dense(1, activation='sigmoid'))\n",
        "\n",
        "model.compile(optimizer=Adam(learning_rate=0.01),loss=binary_crossentropy, metrics=['accuracy'])\n",
        "\n",
        "model.fit(x_train, y_train, epochs=15, batch_size=30, verbose=2)"
      ],
      "execution_count": null,
      "outputs": [
        {
          "output_type": "stream",
          "name": "stdout",
          "text": [
            "Epoch 1/15\n",
            "267/267 - 19s - loss: 0.6956 - accuracy: 0.5284 - 19s/epoch - 72ms/step\n",
            "Epoch 2/15\n",
            "267/267 - 16s - loss: 0.6979 - accuracy: 0.4939 - 16s/epoch - 60ms/step\n",
            "Epoch 3/15\n",
            "267/267 - 16s - loss: 0.6949 - accuracy: 0.5046 - 16s/epoch - 60ms/step\n",
            "Epoch 4/15\n",
            "267/267 - 16s - loss: 0.6942 - accuracy: 0.5054 - 16s/epoch - 61ms/step\n",
            "Epoch 5/15\n",
            "267/267 - 16s - loss: 0.6947 - accuracy: 0.4999 - 16s/epoch - 61ms/step\n",
            "Epoch 6/15\n",
            "267/267 - 16s - loss: 0.6952 - accuracy: 0.4964 - 16s/epoch - 61ms/step\n",
            "Epoch 7/15\n",
            "267/267 - 16s - loss: 0.6946 - accuracy: 0.4900 - 16s/epoch - 61ms/step\n",
            "Epoch 8/15\n",
            "267/267 - 16s - loss: 0.6936 - accuracy: 0.5031 - 16s/epoch - 60ms/step\n",
            "Epoch 9/15\n",
            "267/267 - 16s - loss: 0.6945 - accuracy: 0.4927 - 16s/epoch - 61ms/step\n",
            "Epoch 10/15\n",
            "267/267 - 16s - loss: 0.6936 - accuracy: 0.5060 - 16s/epoch - 61ms/step\n",
            "Epoch 11/15\n",
            "267/267 - 16s - loss: 0.6939 - accuracy: 0.5076 - 16s/epoch - 61ms/step\n",
            "Epoch 12/15\n",
            "267/267 - 16s - loss: 0.6940 - accuracy: 0.5307 - 16s/epoch - 61ms/step\n",
            "Epoch 13/15\n",
            "267/267 - 16s - loss: 0.6878 - accuracy: 0.5543 - 16s/epoch - 61ms/step\n",
            "Epoch 14/15\n",
            "267/267 - 17s - loss: 0.6870 - accuracy: 0.5490 - 17s/epoch - 62ms/step\n",
            "Epoch 15/15\n",
            "267/267 - 16s - loss: 0.6872 - accuracy: 0.5511 - 16s/epoch - 62ms/step\n"
          ]
        },
        {
          "output_type": "execute_result",
          "data": {
            "text/plain": [
              "<keras.callbacks.History at 0x7f83f9596dd0>"
            ]
          },
          "metadata": {},
          "execution_count": 10
        }
      ]
    },
    {
      "cell_type": "code",
      "metadata": {
        "colab": {
          "base_uri": "https://localhost:8080/"
        },
        "id": "p7Dur8LHtBgc",
        "outputId": "b3c6d550-3932-442f-b92f-26ff699354d4"
      },
      "source": [
        "from sklearn.metrics import classification_report\n",
        "predict_x=model.predict(x_test) \n",
        "classes_x=[1 if x[0]>0.5 else 0 for x in predict_x]\n",
        "print(classification_report(y_test,classes_x))"
      ],
      "execution_count": null,
      "outputs": [
        {
          "output_type": "stream",
          "name": "stdout",
          "text": [
            "              precision    recall  f1-score   support\n",
            "\n",
            "           0       0.59      0.47      0.52      1000\n",
            "           1       0.56      0.67      0.61      1000\n",
            "\n",
            "    accuracy                           0.57      2000\n",
            "   macro avg       0.58      0.57      0.57      2000\n",
            "weighted avg       0.58      0.57      0.57      2000\n",
            "\n"
          ]
        }
      ]
    },
    {
      "cell_type": "markdown",
      "metadata": {
        "id": "3LHfds45Ts2i"
      },
      "source": [
        "#Word2Vec"
      ]
    },
    {
      "cell_type": "code",
      "metadata": {
        "colab": {
          "base_uri": "https://localhost:8080/"
        },
        "id": "xOrkP1mZGuvX",
        "outputId": "42b7c5c5-14e5-42e5-b970-80b3146e0f7d"
      },
      "source": [
        "import gensim\n",
        "from gensim.models import word2vec\n",
        "\n",
        "word2vec = gensim.models.Word2Vec(train_set['Text Transcription'], min_count = 1, size = 50, window = 5, sg=1)\n",
        "word2vec_weights = word2vec.wv.syn0\n",
        "word2vec_weights.shape"
      ],
      "execution_count": null,
      "outputs": [
        {
          "output_type": "stream",
          "name": "stderr",
          "text": [
            "/usr/local/lib/python3.7/dist-packages/ipykernel_launcher.py:5: DeprecationWarning: Call to deprecated `syn0` (Attribute will be removed in 4.0.0, use self.wv.vectors instead).\n",
            "  \"\"\"\n"
          ]
        },
        {
          "output_type": "execute_result",
          "data": {
            "text/plain": [
              "(22415, 50)"
            ]
          },
          "metadata": {},
          "execution_count": 12
        }
      ]
    },
    {
      "cell_type": "code",
      "metadata": {
        "colab": {
          "base_uri": "https://localhost:8080/"
        },
        "id": "HYDv-sWQKM07",
        "outputId": "f927c8f5-752f-4d71-ce5b-6ca8c3d8a4b9"
      },
      "source": [
        "model = Sequential()\n",
        "model.add(Embedding(input_dim=len(vocabulary), output_dim=50, weights=[word2vec_weights],trainable=False))\n",
        "model.add(LSTM(128))\n",
        "model.add(Dense(1, activation='sigmoid'))\n",
        "model.compile(optimizer=Adam(learning_rate=0.01),loss=binary_crossentropy, metrics=['accuracy'])\n",
        "model.fit(x_train, y_train, epochs=15, batch_size=30, verbose=2)"
      ],
      "execution_count": null,
      "outputs": [
        {
          "output_type": "stream",
          "name": "stdout",
          "text": [
            "Epoch 1/15\n",
            "267/267 - 8s - loss: 0.6915 - accuracy: 0.5324 - 8s/epoch - 28ms/step\n",
            "Epoch 2/15\n",
            "267/267 - 5s - loss: 0.6862 - accuracy: 0.5556 - 5s/epoch - 20ms/step\n",
            "Epoch 3/15\n",
            "267/267 - 5s - loss: 0.6830 - accuracy: 0.5574 - 5s/epoch - 20ms/step\n",
            "Epoch 4/15\n",
            "267/267 - 5s - loss: 0.6819 - accuracy: 0.5665 - 5s/epoch - 20ms/step\n",
            "Epoch 5/15\n",
            "267/267 - 5s - loss: 0.6814 - accuracy: 0.5651 - 5s/epoch - 20ms/step\n",
            "Epoch 6/15\n",
            "267/267 - 5s - loss: 0.6788 - accuracy: 0.5729 - 5s/epoch - 20ms/step\n",
            "Epoch 7/15\n",
            "267/267 - 5s - loss: 0.6773 - accuracy: 0.5681 - 5s/epoch - 20ms/step\n",
            "Epoch 8/15\n",
            "267/267 - 5s - loss: 0.6765 - accuracy: 0.5742 - 5s/epoch - 20ms/step\n",
            "Epoch 9/15\n",
            "267/267 - 5s - loss: 0.6736 - accuracy: 0.5749 - 5s/epoch - 20ms/step\n",
            "Epoch 10/15\n",
            "267/267 - 5s - loss: 0.6726 - accuracy: 0.5815 - 5s/epoch - 20ms/step\n",
            "Epoch 11/15\n",
            "267/267 - 5s - loss: 0.6703 - accuracy: 0.5856 - 5s/epoch - 20ms/step\n",
            "Epoch 12/15\n",
            "267/267 - 5s - loss: 0.6696 - accuracy: 0.5896 - 5s/epoch - 20ms/step\n",
            "Epoch 13/15\n",
            "267/267 - 5s - loss: 0.6685 - accuracy: 0.5878 - 5s/epoch - 20ms/step\n",
            "Epoch 14/15\n",
            "267/267 - 5s - loss: 0.6670 - accuracy: 0.5891 - 5s/epoch - 20ms/step\n",
            "Epoch 15/15\n",
            "267/267 - 5s - loss: 0.6645 - accuracy: 0.5921 - 5s/epoch - 20ms/step\n"
          ]
        },
        {
          "output_type": "execute_result",
          "data": {
            "text/plain": [
              "<keras.callbacks.History at 0x7f83f373cfd0>"
            ]
          },
          "metadata": {},
          "execution_count": 13
        }
      ]
    },
    {
      "cell_type": "code",
      "metadata": {
        "colab": {
          "base_uri": "https://localhost:8080/"
        },
        "id": "QaYojNu1Npth",
        "outputId": "7a9ec12d-bd2b-4c3f-c26f-8f1f28da55dd"
      },
      "source": [
        "model.evaluate(x_test,y_test)"
      ],
      "execution_count": null,
      "outputs": [
        {
          "output_type": "stream",
          "name": "stdout",
          "text": [
            "63/63 [==============================] - 1s 9ms/step - loss: 0.6744 - accuracy: 0.5730\n"
          ]
        },
        {
          "output_type": "execute_result",
          "data": {
            "text/plain": [
              "[0.6743536591529846, 0.5730000138282776]"
            ]
          },
          "metadata": {},
          "execution_count": 14
        }
      ]
    },
    {
      "cell_type": "code",
      "metadata": {
        "colab": {
          "base_uri": "https://localhost:8080/"
        },
        "id": "DrhM34VZMLx7",
        "outputId": "a6c5e5e8-cf18-4591-f74d-3e9ee3b76fe6"
      },
      "source": [
        "from sklearn.metrics import classification_report\n",
        "predict_x=model.predict(x_test) \n",
        "classes_x=[1 if x[0]>0.5 else 0 for x in predict_x]\n",
        "print(classification_report(y_test,classes_x))"
      ],
      "execution_count": null,
      "outputs": [
        {
          "output_type": "stream",
          "name": "stdout",
          "text": [
            "              precision    recall  f1-score   support\n",
            "\n",
            "           0       0.58      0.55      0.56      1000\n",
            "           1       0.57      0.59      0.58      1000\n",
            "\n",
            "    accuracy                           0.57      2000\n",
            "   macro avg       0.57      0.57      0.57      2000\n",
            "weighted avg       0.57      0.57      0.57      2000\n",
            "\n"
          ]
        }
      ]
    },
    {
      "cell_type": "markdown",
      "metadata": {
        "id": "8xizOinRT073"
      },
      "source": [
        "#GloVe"
      ]
    },
    {
      "cell_type": "code",
      "metadata": {
        "id": "W_s_d9OBMppI"
      },
      "source": [
        "embeddings = dict()\n",
        "with open('/content/glove.6B.50d.txt', 'r', encoding='utf-8') as doc:\n",
        "    line = doc.readline()\n",
        "    while line != '':\n",
        "        line = line.rstrip('\\n').lower()\n",
        "        parts = line.split(' ')\n",
        "        vals = np.array(parts[1:], dtype=np.float)\n",
        "        if parts[0] in vocabulary:\n",
        "            embeddings[parts[0]] = vals\n",
        "        line = doc.readline()\n"
      ],
      "execution_count": null,
      "outputs": []
    },
    {
      "cell_type": "code",
      "metadata": {
        "id": "Se48sTdzelxA"
      },
      "source": [
        "embedding_matrix = np.zeros((len(vocabulary), 50))\n",
        "for i in range(len(vocabulary)):\n",
        "  if vocabulary[i] in embeddings.keys():\n",
        "      embedding_matrix[i] = embeddings[vocabulary[i]]\n",
        "  else:\n",
        "      embedding_matrix[i] = np.random.standard_normal(50)"
      ],
      "execution_count": null,
      "outputs": []
    },
    {
      "cell_type": "code",
      "metadata": {
        "colab": {
          "base_uri": "https://localhost:8080/"
        },
        "id": "PBHsy3VEaBbi",
        "outputId": "243e11cb-8e77-47ec-e112-2ccfa704a727"
      },
      "source": [
        "model = Sequential()\n",
        "model.add(Embedding(input_dim=len(vocabulary), output_dim=50, weights=[embedding_matrix],trainable=False))\n",
        "model.add(LSTM(128))\n",
        "model.add(Dense(1, activation='sigmoid'))\n",
        "model.compile(optimizer=Adam(learning_rate=0.01),loss=binary_crossentropy, metrics=['accuracy'])\n",
        "model.fit(x_train, y_train, epochs=15, batch_size=30, verbose=2)"
      ],
      "execution_count": null,
      "outputs": [
        {
          "output_type": "stream",
          "name": "stdout",
          "text": [
            "Epoch 1/15\n",
            "267/267 - 7s - loss: 0.6347 - accuracy: 0.6289 - 7s/epoch - 28ms/step\n",
            "Epoch 2/15\n",
            "267/267 - 5s - loss: 0.5294 - accuracy: 0.7377 - 5s/epoch - 20ms/step\n",
            "Epoch 3/15\n",
            "267/267 - 5s - loss: 0.4571 - accuracy: 0.7843 - 5s/epoch - 20ms/step\n",
            "Epoch 4/15\n",
            "267/267 - 5s - loss: 0.3788 - accuracy: 0.8315 - 5s/epoch - 20ms/step\n",
            "Epoch 5/15\n",
            "267/267 - 5s - loss: 0.3113 - accuracy: 0.8629 - 5s/epoch - 20ms/step\n",
            "Epoch 6/15\n",
            "267/267 - 5s - loss: 0.2571 - accuracy: 0.8899 - 5s/epoch - 20ms/step\n",
            "Epoch 7/15\n",
            "267/267 - 5s - loss: 0.1993 - accuracy: 0.9224 - 5s/epoch - 20ms/step\n",
            "Epoch 8/15\n",
            "267/267 - 5s - loss: 0.1910 - accuracy: 0.9240 - 5s/epoch - 20ms/step\n",
            "Epoch 9/15\n",
            "267/267 - 5s - loss: 0.2091 - accuracy: 0.9153 - 5s/epoch - 20ms/step\n",
            "Epoch 10/15\n",
            "267/267 - 5s - loss: 0.1536 - accuracy: 0.9401 - 5s/epoch - 20ms/step\n",
            "Epoch 11/15\n",
            "267/267 - 5s - loss: 0.1341 - accuracy: 0.9484 - 5s/epoch - 20ms/step\n",
            "Epoch 12/15\n",
            "267/267 - 5s - loss: 0.1423 - accuracy: 0.9456 - 5s/epoch - 20ms/step\n",
            "Epoch 13/15\n",
            "267/267 - 5s - loss: 0.1702 - accuracy: 0.9319 - 5s/epoch - 20ms/step\n",
            "Epoch 14/15\n",
            "267/267 - 5s - loss: 0.1664 - accuracy: 0.9321 - 5s/epoch - 20ms/step\n",
            "Epoch 15/15\n",
            "267/267 - 5s - loss: 0.1475 - accuracy: 0.9420 - 5s/epoch - 20ms/step\n"
          ]
        },
        {
          "output_type": "execute_result",
          "data": {
            "text/plain": [
              "<keras.callbacks.History at 0x7f83f8b61250>"
            ]
          },
          "metadata": {},
          "execution_count": 18
        }
      ]
    },
    {
      "cell_type": "code",
      "metadata": {
        "colab": {
          "base_uri": "https://localhost:8080/"
        },
        "id": "0PzQWR-KfRza",
        "outputId": "9680023f-98cf-4639-98fa-07296c254fb2"
      },
      "source": [
        "model.evaluate(x_test,y_test)"
      ],
      "execution_count": null,
      "outputs": [
        {
          "output_type": "stream",
          "name": "stdout",
          "text": [
            "63/63 [==============================] - 1s 9ms/step - loss: 1.0452 - accuracy: 0.7190\n"
          ]
        },
        {
          "output_type": "execute_result",
          "data": {
            "text/plain": [
              "[1.0451955795288086, 0.718999981880188]"
            ]
          },
          "metadata": {},
          "execution_count": 19
        }
      ]
    },
    {
      "cell_type": "code",
      "metadata": {
        "colab": {
          "base_uri": "https://localhost:8080/"
        },
        "id": "NjP179jSabgz",
        "outputId": "b40b5f69-5dbc-4dee-c3f9-fd7a57688d64"
      },
      "source": [
        "from sklearn.metrics import classification_report\n",
        "predict_x=model.predict(x_test) \n",
        "classes_x=[1 if x[0]>0.5 else 0 for x in predict_x]\n",
        "print(classification_report(y_test,classes_x))"
      ],
      "execution_count": null,
      "outputs": [
        {
          "output_type": "stream",
          "name": "stdout",
          "text": [
            "              precision    recall  f1-score   support\n",
            "\n",
            "           0       0.72      0.72      0.72      1000\n",
            "           1       0.72      0.72      0.72      1000\n",
            "\n",
            "    accuracy                           0.72      2000\n",
            "   macro avg       0.72      0.72      0.72      2000\n",
            "weighted avg       0.72      0.72      0.72      2000\n",
            "\n"
          ]
        }
      ]
    },
    {
      "cell_type": "markdown",
      "metadata": {
        "id": "atATzyjP5GAS"
      },
      "source": [
        "Перформансите не се подобрени за разлика од првата лабораториска и покрај користење на длабоко учење, односно невронски мрежи. Сепак можеме да земеме во предвид дека не користиме cross-validation или не користиме никаков sampling за да балансираме dataset-от каде што може со комбинација од некои овие концепти би го подобриле значително моделот на невронските мрежи."
      ]
    },
    {
      "cell_type": "markdown",
      "metadata": {
        "id": "LVCCPV0YQ008"
      },
      "source": [
        "#Task 2"
      ]
    },
    {
      "cell_type": "code",
      "metadata": {
        "id": "lMjJY8iwQ3lK"
      },
      "source": [
        "from sklearn.multioutput import MultiOutputClassifier\n",
        "labels = train_set[['misogynous','shaming','stereotype','objectification','violence']]\n",
        "x_train, x_test, y_train, y_test = train_test_split(padded_sentences, labels, test_size=0.2, random_state=42)\t\n"
      ],
      "execution_count": null,
      "outputs": []
    },
    {
      "cell_type": "code",
      "metadata": {
        "id": "PvgM9M2Ypfrj"
      },
      "source": [
        "from keras import backend as K\n",
        "def full_multi_label_metric(y_true, y_pred):\n",
        "    comp = K.equal(y_true, K.round(y_pred))\n",
        "    return K.cast(K.all(comp, axis=-1), K.floatx())"
      ],
      "execution_count": null,
      "outputs": []
    },
    {
      "cell_type": "markdown",
      "metadata": {
        "id": "4dcMt5YdSdIA"
      },
      "source": [
        "##GloVe"
      ]
    },
    {
      "cell_type": "code",
      "metadata": {
        "colab": {
          "base_uri": "https://localhost:8080/"
        },
        "id": "ps9ZI1wnSfM-",
        "outputId": "374f3fda-623c-45d9-a448-38ca31f7b47a"
      },
      "source": [
        "model = Sequential()\n",
        "model.add(Embedding(input_dim=len(vocabulary), output_dim=50, weights=[embedding_matrix],trainable=False))\n",
        "model.add(LSTM(128))\n",
        "model.add(Dense(5, activation='sigmoid'))\n",
        "model.compile(optimizer=Adam(learning_rate=0.01),loss=binary_crossentropy, metrics=[full_multi_label_metric])\n",
        "model.fit(x_train, y_train, epochs=15, batch_size=30, verbose=2)"
      ],
      "execution_count": null,
      "outputs": [
        {
          "output_type": "stream",
          "name": "stdout",
          "text": [
            "Epoch 1/15\n",
            "267/267 - 7s - loss: 0.4857 - full_multi_label_metric: 0.3625 - 7s/epoch - 28ms/step\n",
            "Epoch 2/15\n",
            "267/267 - 5s - loss: 0.4470 - full_multi_label_metric: 0.4384 - 5s/epoch - 20ms/step\n",
            "Epoch 3/15\n",
            "267/267 - 5s - loss: 0.4140 - full_multi_label_metric: 0.4694 - 5s/epoch - 20ms/step\n",
            "Epoch 4/15\n",
            "267/267 - 5s - loss: 0.3745 - full_multi_label_metric: 0.5111 - 5s/epoch - 20ms/step\n",
            "Epoch 5/15\n",
            "267/267 - 5s - loss: 0.3329 - full_multi_label_metric: 0.5493 - 5s/epoch - 20ms/step\n",
            "Epoch 6/15\n",
            "267/267 - 5s - loss: 0.2942 - full_multi_label_metric: 0.5993 - 5s/epoch - 20ms/step\n",
            "Epoch 7/15\n",
            "267/267 - 5s - loss: 0.2593 - full_multi_label_metric: 0.6325 - 5s/epoch - 20ms/step\n",
            "Epoch 8/15\n",
            "267/267 - 5s - loss: 0.2373 - full_multi_label_metric: 0.6640 - 5s/epoch - 20ms/step\n",
            "Epoch 9/15\n",
            "267/267 - 5s - loss: 0.2182 - full_multi_label_metric: 0.6809 - 5s/epoch - 20ms/step\n",
            "Epoch 10/15\n",
            "267/267 - 5s - loss: 0.2040 - full_multi_label_metric: 0.6986 - 5s/epoch - 20ms/step\n",
            "Epoch 11/15\n",
            "267/267 - 5s - loss: 0.1805 - full_multi_label_metric: 0.7316 - 5s/epoch - 20ms/step\n",
            "Epoch 12/15\n",
            "267/267 - 5s - loss: 0.1620 - full_multi_label_metric: 0.7590 - 5s/epoch - 20ms/step\n",
            "Epoch 13/15\n",
            "267/267 - 5s - loss: 0.1603 - full_multi_label_metric: 0.7620 - 5s/epoch - 20ms/step\n",
            "Epoch 14/15\n",
            "267/267 - 5s - loss: 0.1611 - full_multi_label_metric: 0.7548 - 5s/epoch - 20ms/step\n",
            "Epoch 15/15\n",
            "267/267 - 5s - loss: 0.1787 - full_multi_label_metric: 0.7325 - 5s/epoch - 20ms/step\n"
          ]
        },
        {
          "output_type": "execute_result",
          "data": {
            "text/plain": [
              "<keras.callbacks.History at 0x7f83f07c2fd0>"
            ]
          },
          "metadata": {},
          "execution_count": 23
        }
      ]
    },
    {
      "cell_type": "code",
      "metadata": {
        "colab": {
          "base_uri": "https://localhost:8080/"
        },
        "id": "KTBBXsvbGVOW",
        "outputId": "450269ad-c489-4b21-f1d8-d00cb5d80613"
      },
      "source": [
        "model.evaluate(x_test,y_test)"
      ],
      "execution_count": null,
      "outputs": [
        {
          "output_type": "stream",
          "name": "stdout",
          "text": [
            "63/63 [==============================] - 1s 10ms/step - loss: 0.7137 - full_multi_label_metric: 0.4035\n"
          ]
        },
        {
          "output_type": "execute_result",
          "data": {
            "text/plain": [
              "[0.7136902809143066, 0.4034999907016754]"
            ]
          },
          "metadata": {},
          "execution_count": 24
        }
      ]
    },
    {
      "cell_type": "code",
      "metadata": {
        "id": "nZ57__EWXi1e"
      },
      "source": [
        "predict_x=model.predict(x_test) \n",
        "multioutput = list()\n",
        "for pred in predict_x:\n",
        "  temp= list()\n",
        "  for x in pred:\n",
        "    if x>0.5:\n",
        "      temp.append(1)\n",
        "    else:\n",
        "      temp.append(0)\n",
        "  multioutput.append(temp)"
      ],
      "execution_count": null,
      "outputs": []
    },
    {
      "cell_type": "code",
      "metadata": {
        "id": "JeQT4pBDckcH"
      },
      "source": [
        "TP=[0]*5\n",
        "TN=[0]*5\n",
        "FP=[0]*5\n",
        "FN=[0]*5\n",
        "for predict,true in zip(multioutput,y_test.values):\n",
        "  for i in range(len(predict)):\n",
        "    if predict[i]==1 and true[i]==1:\n",
        "      TP[i]+=1\n",
        "    elif predict[i]==1 and true[i]==0:\n",
        "      FP[i]+=1\n",
        "    elif predict[i]==0 and true[i]==0:\n",
        "      TN[i]+=1\n",
        "    elif predict[i]==0 and true[i]==1:\n",
        "      FN[i]+=1"
      ],
      "execution_count": null,
      "outputs": []
    },
    {
      "cell_type": "code",
      "metadata": {
        "id": "OZvOihLLdcto"
      },
      "source": [
        "accuracy = np.add(TP,TN)/len(multioutput)\n",
        "precision = np.add(TP,0)/np.add(TP,FP)\n",
        "recall = np.add(TP,0)/np.add(TP,FN)\n",
        "F1 = (2*precision*recall)/(precision+recall)"
      ],
      "execution_count": null,
      "outputs": []
    },
    {
      "cell_type": "code",
      "metadata": {
        "colab": {
          "base_uri": "https://localhost:8080/",
          "height": 173
        },
        "id": "Avhy9gEnhhDJ",
        "outputId": "0c484e16-b435-4e38-9374-f7417a24ecf5"
      },
      "source": [
        "pd.DataFrame(data=[accuracy,precision,recall,F1],columns=y_test.columns,index=[\"Accuracy\",\"Precision\",\"Recall\",\"F1\"])"
      ],
      "execution_count": null,
      "outputs": [
        {
          "output_type": "execute_result",
          "data": {
            "text/html": [
              "<div>\n",
              "<style scoped>\n",
              "    .dataframe tbody tr th:only-of-type {\n",
              "        vertical-align: middle;\n",
              "    }\n",
              "\n",
              "    .dataframe tbody tr th {\n",
              "        vertical-align: top;\n",
              "    }\n",
              "\n",
              "    .dataframe thead th {\n",
              "        text-align: right;\n",
              "    }\n",
              "</style>\n",
              "<table border=\"1\" class=\"dataframe\">\n",
              "  <thead>\n",
              "    <tr style=\"text-align: right;\">\n",
              "      <th></th>\n",
              "      <th>misogynous</th>\n",
              "      <th>shaming</th>\n",
              "      <th>stereotype</th>\n",
              "      <th>objectification</th>\n",
              "      <th>violence</th>\n",
              "    </tr>\n",
              "  </thead>\n",
              "  <tbody>\n",
              "    <tr>\n",
              "      <th>Accuracy</th>\n",
              "      <td>0.698000</td>\n",
              "      <td>0.820000</td>\n",
              "      <td>0.730000</td>\n",
              "      <td>0.757000</td>\n",
              "      <td>0.881500</td>\n",
              "    </tr>\n",
              "    <tr>\n",
              "      <th>Precision</th>\n",
              "      <td>0.690840</td>\n",
              "      <td>0.241706</td>\n",
              "      <td>0.523346</td>\n",
              "      <td>0.434568</td>\n",
              "      <td>0.268041</td>\n",
              "    </tr>\n",
              "    <tr>\n",
              "      <th>Recall</th>\n",
              "      <td>0.721116</td>\n",
              "      <td>0.203187</td>\n",
              "      <td>0.476950</td>\n",
              "      <td>0.406467</td>\n",
              "      <td>0.135417</td>\n",
              "    </tr>\n",
              "    <tr>\n",
              "      <th>F1</th>\n",
              "      <td>0.705653</td>\n",
              "      <td>0.220779</td>\n",
              "      <td>0.499072</td>\n",
              "      <td>0.420048</td>\n",
              "      <td>0.179931</td>\n",
              "    </tr>\n",
              "  </tbody>\n",
              "</table>\n",
              "</div>"
            ],
            "text/plain": [
              "           misogynous   shaming  stereotype  objectification  violence\n",
              "Accuracy     0.698000  0.820000    0.730000         0.757000  0.881500\n",
              "Precision    0.690840  0.241706    0.523346         0.434568  0.268041\n",
              "Recall       0.721116  0.203187    0.476950         0.406467  0.135417\n",
              "F1           0.705653  0.220779    0.499072         0.420048  0.179931"
            ]
          },
          "metadata": {},
          "execution_count": 28
        }
      ]
    },
    {
      "cell_type": "markdown",
      "metadata": {
        "id": "PUj4CTzWk0Y-"
      },
      "source": [
        "##Word2Vec"
      ]
    },
    {
      "cell_type": "code",
      "metadata": {
        "colab": {
          "base_uri": "https://localhost:8080/"
        },
        "id": "IrUz6wJzk2Oj",
        "outputId": "b116622c-7a73-4cb7-9e2f-14b5fd6faa15"
      },
      "source": [
        "model = Sequential()\n",
        "model.add(Embedding(input_dim=len(vocabulary), output_dim=50, weights=[word2vec_weights],trainable=False))\n",
        "model.add(LSTM(128))\n",
        "model.add(Dense(5, activation='sigmoid'))\n",
        "model.compile(optimizer=Adam(learning_rate=0.01),loss=binary_crossentropy, metrics=[full_multi_label_metric])\n",
        "model.fit(x_train, y_train, epochs=15, batch_size=30, verbose=2)"
      ],
      "execution_count": null,
      "outputs": [
        {
          "output_type": "stream",
          "name": "stdout",
          "text": [
            "Epoch 1/15\n",
            "267/267 - 8s - loss: 0.5070 - full_multi_label_metric: 0.2477 - 8s/epoch - 28ms/step\n",
            "Epoch 2/15\n",
            "267/267 - 5s - loss: 0.5000 - full_multi_label_metric: 0.2689 - 5s/epoch - 20ms/step\n",
            "Epoch 3/15\n",
            "267/267 - 5s - loss: 0.4981 - full_multi_label_metric: 0.2766 - 5s/epoch - 20ms/step\n",
            "Epoch 4/15\n",
            "267/267 - 5s - loss: 0.4975 - full_multi_label_metric: 0.2906 - 5s/epoch - 20ms/step\n",
            "Epoch 5/15\n",
            "267/267 - 5s - loss: 0.4974 - full_multi_label_metric: 0.2952 - 5s/epoch - 20ms/step\n",
            "Epoch 6/15\n",
            "267/267 - 5s - loss: 0.4966 - full_multi_label_metric: 0.3000 - 5s/epoch - 20ms/step\n",
            "Epoch 7/15\n",
            "267/267 - 5s - loss: 0.4958 - full_multi_label_metric: 0.3018 - 5s/epoch - 20ms/step\n",
            "Epoch 8/15\n",
            "267/267 - 5s - loss: 0.4953 - full_multi_label_metric: 0.2962 - 5s/epoch - 20ms/step\n",
            "Epoch 9/15\n",
            "267/267 - 5s - loss: 0.4950 - full_multi_label_metric: 0.2941 - 5s/epoch - 20ms/step\n",
            "Epoch 10/15\n",
            "267/267 - 5s - loss: 0.4945 - full_multi_label_metric: 0.2931 - 5s/epoch - 20ms/step\n",
            "Epoch 11/15\n",
            "267/267 - 5s - loss: 0.4938 - full_multi_label_metric: 0.2948 - 5s/epoch - 20ms/step\n",
            "Epoch 12/15\n",
            "267/267 - 5s - loss: 0.4941 - full_multi_label_metric: 0.2976 - 5s/epoch - 20ms/step\n",
            "Epoch 13/15\n",
            "267/267 - 5s - loss: 0.4923 - full_multi_label_metric: 0.3064 - 5s/epoch - 20ms/step\n",
            "Epoch 14/15\n",
            "267/267 - 5s - loss: 0.4928 - full_multi_label_metric: 0.2926 - 5s/epoch - 20ms/step\n",
            "Epoch 15/15\n",
            "267/267 - 5s - loss: 0.4915 - full_multi_label_metric: 0.3075 - 5s/epoch - 20ms/step\n"
          ]
        },
        {
          "output_type": "execute_result",
          "data": {
            "text/plain": [
              "<keras.callbacks.History at 0x7f83ee766890>"
            ]
          },
          "metadata": {},
          "execution_count": 29
        }
      ]
    },
    {
      "cell_type": "code",
      "metadata": {
        "colab": {
          "base_uri": "https://localhost:8080/"
        },
        "id": "GPl98PHClFyV",
        "outputId": "20e9179a-6e4e-4cdf-d85a-0d6ec2499c63"
      },
      "source": [
        "model.evaluate(x_test,y_test)"
      ],
      "execution_count": null,
      "outputs": [
        {
          "output_type": "stream",
          "name": "stdout",
          "text": [
            "63/63 [==============================] - 1s 9ms/step - loss: 0.4967 - full_multi_label_metric: 0.2990\n"
          ]
        },
        {
          "output_type": "execute_result",
          "data": {
            "text/plain": [
              "[0.4966822862625122, 0.29899999499320984]"
            ]
          },
          "metadata": {},
          "execution_count": 30
        }
      ]
    },
    {
      "cell_type": "code",
      "metadata": {
        "id": "SO3OZls4m-H6"
      },
      "source": [
        "predict_x=model.predict(x_test) \n",
        "multioutput = list()\n",
        "for pred in predict_x:\n",
        "  temp= list()\n",
        "  for x in pred:\n",
        "    if x>0.5:\n",
        "      temp.append(1)\n",
        "    else:\n",
        "      temp.append(0)\n",
        "  multioutput.append(temp)"
      ],
      "execution_count": null,
      "outputs": []
    },
    {
      "cell_type": "code",
      "metadata": {
        "colab": {
          "base_uri": "https://localhost:8080/",
          "height": 244
        },
        "id": "iwlEWzHklJ_-",
        "outputId": "7119ae9e-240e-484d-88ff-e260417302fc"
      },
      "source": [
        "TP=[0]*5\n",
        "TN=[0]*5\n",
        "FP=[0]*5\n",
        "FN=[0]*5\n",
        "for predict,true in zip(multioutput,y_test.values):\n",
        "  for i in range(len(predict)):\n",
        "    if predict[i]==1 and true[i]==1:\n",
        "      TP[i]+=1\n",
        "    elif predict[i]==1 and true[i]==0:\n",
        "      FP[i]+=1\n",
        "    elif predict[i]==0 and true[i]==0:\n",
        "      TN[i]+=1\n",
        "    elif predict[i]==0 and true[i]==1:\n",
        "      FN[i]+=1\n",
        "accuracy = np.add(TP,TN)/len(multioutput)\n",
        "precision = np.add(TP,0)/np.add(TP,FP)\n",
        "recall = np.add(TP,0)/np.add(TP,FN)\n",
        "F1 = (2*precision*recall)/(precision+recall)\n",
        "pd.DataFrame(data=[accuracy,precision,recall,F1],columns=y_test.columns,index=[\"Accuracy\",\"Precision\",\"Recall\",\"F1\"])"
      ],
      "execution_count": null,
      "outputs": [
        {
          "output_type": "stream",
          "name": "stderr",
          "text": [
            "/usr/local/lib/python3.7/dist-packages/ipykernel_launcher.py:16: RuntimeWarning: invalid value encountered in true_divide\n",
            "  app.launch_new_instance()\n",
            "/usr/local/lib/python3.7/dist-packages/ipykernel_launcher.py:18: RuntimeWarning: invalid value encountered in true_divide\n"
          ]
        },
        {
          "output_type": "execute_result",
          "data": {
            "text/html": [
              "<div>\n",
              "<style scoped>\n",
              "    .dataframe tbody tr th:only-of-type {\n",
              "        vertical-align: middle;\n",
              "    }\n",
              "\n",
              "    .dataframe tbody tr th {\n",
              "        vertical-align: top;\n",
              "    }\n",
              "\n",
              "    .dataframe thead th {\n",
              "        text-align: right;\n",
              "    }\n",
              "</style>\n",
              "<table border=\"1\" class=\"dataframe\">\n",
              "  <thead>\n",
              "    <tr style=\"text-align: right;\">\n",
              "      <th></th>\n",
              "      <th>misogynous</th>\n",
              "      <th>shaming</th>\n",
              "      <th>stereotype</th>\n",
              "      <th>objectification</th>\n",
              "      <th>violence</th>\n",
              "    </tr>\n",
              "  </thead>\n",
              "  <tbody>\n",
              "    <tr>\n",
              "      <th>Accuracy</th>\n",
              "      <td>0.569500</td>\n",
              "      <td>0.8745</td>\n",
              "      <td>0.717</td>\n",
              "      <td>0.7835</td>\n",
              "      <td>0.904</td>\n",
              "    </tr>\n",
              "    <tr>\n",
              "      <th>Precision</th>\n",
              "      <td>0.572589</td>\n",
              "      <td>NaN</td>\n",
              "      <td>0.000</td>\n",
              "      <td>NaN</td>\n",
              "      <td>NaN</td>\n",
              "    </tr>\n",
              "    <tr>\n",
              "      <th>Recall</th>\n",
              "      <td>0.561753</td>\n",
              "      <td>0.0000</td>\n",
              "      <td>0.000</td>\n",
              "      <td>0.0000</td>\n",
              "      <td>0.000</td>\n",
              "    </tr>\n",
              "    <tr>\n",
              "      <th>F1</th>\n",
              "      <td>0.567119</td>\n",
              "      <td>NaN</td>\n",
              "      <td>NaN</td>\n",
              "      <td>NaN</td>\n",
              "      <td>NaN</td>\n",
              "    </tr>\n",
              "  </tbody>\n",
              "</table>\n",
              "</div>"
            ],
            "text/plain": [
              "           misogynous  shaming  stereotype  objectification  violence\n",
              "Accuracy     0.569500   0.8745       0.717           0.7835     0.904\n",
              "Precision    0.572589      NaN       0.000              NaN       NaN\n",
              "Recall       0.561753   0.0000       0.000           0.0000     0.000\n",
              "F1           0.567119      NaN         NaN              NaN       NaN"
            ]
          },
          "metadata": {},
          "execution_count": 37
        }
      ]
    },
    {
      "cell_type": "markdown",
      "metadata": {
        "id": "ICeHqCEnsUij"
      },
      "source": [
        "Доста комплицирано е во однос кога се предвидува нешто Multi-label. Но, не се подобрени перформансите.\n",
        "Во документацијата на Keras има точно како се користи метриката при тренирање на моделот, затоа направивме своја метрика односно моделот предвидува точност во целост на торката. Пример  \n",
        "Ако актуелната торка од y_test  е  \n",
        "[1,0,1,0,0]  \n",
        "А ние сме предвиделе  \n",
        "[1,0,0,0,0]  \n",
        "Тогаш тоа го сметаме како неточно предвидено.\n",
        "Но секако водиме евиденција и за поединечни лабели, а тоа е претставено во DataFrames.\n"
      ]
    },
    {
      "cell_type": "code",
      "metadata": {
        "id": "6Pq7XBqZrjsv"
      },
      "source": [
        ""
      ],
      "execution_count": null,
      "outputs": []
    }
  ]
}